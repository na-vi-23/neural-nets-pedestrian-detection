{
 "cells": [
  {
   "cell_type": "code",
   "execution_count": 19,
   "metadata": {},
   "outputs": [
    {
     "name": "stderr",
     "output_type": "stream",
     "text": [
      "usage: ipykernel_launcher.py [-h] -i IMAGE [-w WIN_STRIDE] [-p PADDING]\n",
      "                             [-s SCALE] [-m MEAN_SHIFT]\n",
      "ipykernel_launcher.py: error: the following arguments are required: -i/--image\n"
     ]
    },
    {
     "ename": "SystemExit",
     "evalue": "2",
     "output_type": "error",
     "traceback": [
      "An exception has occurred, use %tb to see the full traceback.\n",
      "\u001b[1;31mSystemExit\u001b[0m\u001b[1;31m:\u001b[0m 2\n"
     ]
    },
    {
     "name": "stderr",
     "output_type": "stream",
     "text": [
      "C:\\Users\\GloTech\\Anaconda3\\lib\\site-packages\\IPython\\core\\interactiveshell.py:2889: UserWarning: To exit: use 'exit', 'quit', or Ctrl-D.\n",
      "  warn(\"To exit: use 'exit', 'quit', or Ctrl-D.\", stacklevel=1)\n"
     ]
    }
   ],
   "source": [
    "# import the necessary packages\n",
    "from __future__ import print_function\n",
    "import argparse\n",
    "import datetime\n",
    "import imutils\n",
    "import cv2\n",
    " \n",
    "# construct the argument parse and parse the arguments\n",
    "ap = argparse.ArgumentParser()\n",
    "ap.add_argument(\"-i\", \"--image\", required=True,help=\"path to the input image\")\n",
    "ap.add_argument(\"-w\", \"--win-stride\", type=str, default=\"(8, 8)\",help=\"window stride\")\n",
    "ap.add_argument(\"-p\", \"--padding\", type=str, default=\"(16, 16)\",help=\"object padding\")\n",
    "ap.add_argument(\"-s\", \"--scale\", type=float, default=1.05,help=\"image pyramid scale\")\n",
    "ap.add_argument(\"-m\", \"--mean-shift\", type=int, default=-1,help=\"whether or not mean shift grouping should be used\")\n",
    "args = vars(ap.parse_args())"
   ]
  },
  {
   "cell_type": "code",
   "execution_count": 20,
   "metadata": {},
   "outputs": [
    {
     "name": "stderr",
     "output_type": "stream",
     "text": [
      "usage: ipykernel_launcher.py [-h] -i IMAGE [-w WIN_STRIDE] [-p PADDING]\n",
      "                             [-s SCALE] [-m MEAN_SHIFT]\n",
      "ipykernel_launcher.py: error: the following arguments are required: -i/--image\n"
     ]
    },
    {
     "ename": "SystemExit",
     "evalue": "2",
     "output_type": "error",
     "traceback": [
      "An exception has occurred, use %tb to see the full traceback.\n",
      "\u001b[1;31mSystemExit\u001b[0m\u001b[1;31m:\u001b[0m 2\n"
     ]
    },
    {
     "name": "stderr",
     "output_type": "stream",
     "text": [
      "C:\\Users\\GloTech\\Anaconda3\\lib\\site-packages\\IPython\\core\\interactiveshell.py:2889: UserWarning: To exit: use 'exit', 'quit', or Ctrl-D.\n",
      "  warn(\"To exit: use 'exit', 'quit', or Ctrl-D.\", stacklevel=1)\n"
     ]
    }
   ],
   "source": [
    "# construct the argument parse and parse the arguments\n",
    "ap = argparse.ArgumentParser()\n",
    "ap.add_argument(\"-i\", \"--image\", required=True,help=\"path to the input image\")\n",
    "ap.add_argument(\"-w\", \"--win-stride\", type=str, default=\"(8, 8)\",help=\"window stride\")\n",
    "ap.add_argument(\"-p\", \"--padding\", type=str, default=\"(16, 16)\",help=\"object padding\")\n",
    "ap.add_argument(\"-s\", \"--scale\", type=float, default=1.05,help=\"image pyramid scale\")\n",
    "ap.add_argument(\"-m\", \"--mean-shift\", type=int, default=-1,help=\"whether or not mean shift grouping should be used\")\n",
    "args = vars(ap.parse_args(['--images','images/person_010.bmp']))"
   ]
  },
  {
   "cell_type": "code",
   "execution_count": null,
   "metadata": {
    "collapsed": true
   },
   "outputs": [],
   "source": []
  }
 ],
 "metadata": {
  "kernelspec": {
   "display_name": "Python 3",
   "language": "python",
   "name": "python3"
  },
  "language_info": {
   "codemirror_mode": {
    "name": "ipython",
    "version": 3
   },
   "file_extension": ".py",
   "mimetype": "text/x-python",
   "name": "python",
   "nbconvert_exporter": "python",
   "pygments_lexer": "ipython3",
   "version": "3.6.1"
  }
 },
 "nbformat": 4,
 "nbformat_minor": 2
}
